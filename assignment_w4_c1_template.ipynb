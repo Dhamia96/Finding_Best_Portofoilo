{
 "cells": [
  {
   "cell_type": "markdown",
   "metadata": {},
   "source": [
    "Week 4, Assignment C1:\n",
    "\n",
    "CAPM and Modern Portfolio Theory in Python\n",
    "\n",
    "In this notebook, we will study Modern Portfolio Theory in Python.\n",
    "Please complete the lines bellow where you see \"# TODO\"."
   ]
  },
  {
   "cell_type": "code",
   "execution_count": 48,
   "metadata": {},
   "outputs": [],
   "source": [
    "#Objective 1.\n",
    "#Use this cell to import Numpy (as np) and Pyplot (from Matplotlib as plt) packages.\n",
    "import numpy as np  \n",
    "from matplotlib import pyplot as plt\n"
   ]
  },
  {
   "cell_type": "code",
   "execution_count": 49,
   "metadata": {},
   "outputs": [],
   "source": [
    "#Objective 2.\n",
    "#Select a number of asset classes ( > 1 ) and a number of observations ( > 500 ).  Store your chosen values to the\n",
    "#two new variables \"no_of_asset_classes\" and \"no_of_observations\", respectively.\n",
    "no_of_asset_classes = 5  #Number of stocks \n",
    "no_of_observations = 1000"
   ]
  },
  {
   "cell_type": "code",
   "execution_count": 118,
   "metadata": {},
   "outputs": [],
   "source": [
    "np.random.seed(123)#Sets the Random Number Generator to begin frm a specific position\n",
    "matrix_of_return_values = np.random.randn(no_of_asset_classes, no_of_observations)\n",
    "#Objective 3.\n",
    "#Select a number of test portfolios to generate ( > 1,000 < 20,000).  Store your chosen value to the new variable\n",
    "#\"no_of_portfolios\".  \n",
    "\n",
    "no_of_portfolios = 10000\n",
    "#print(matrix_of_return_values)\n",
    "#matrix_of_return_values.shape"
   ]
  },
  {
   "cell_type": "code",
   "execution_count": 53,
   "metadata": {},
   "outputs": [],
   "source": [
    "#Objective 4.\n",
    "#Initialize four empty lists called \"collection_of_random_asset_weights\", \"portfolio_means\",\n",
    "#\"portfolio_standard_deviations\", and \"portfolio_sharpe_ratios\", respectively.\n",
    "collection_of_random_asset_weights = []\n",
    "portfolio_means = []\n",
    "portfolio_standard_deviations = []\n",
    "portfolio_sharpe_ratios = []"
   ]
  },
  {
   "cell_type": "code",
   "execution_count": 54,
   "metadata": {},
   "outputs": [
    {
     "name": "stdout",
     "output_type": "stream",
     "text": [
      "[[0.26616189 0.19260816 0.2285151  0.07462904 0.23808582]]\n"
     ]
    }
   ],
   "source": [
    "#Objective 5.\n",
    "#Write a function called \"get_random_asset_weights\" that takes as input (Input.I) any number of asset classes\n",
    "#\"no_of_asset_classes\" and returns (Output.I) a Numpy vector (matrix) of weights (percentages) of length \"no_of_asset_classes\"\n",
    "#whose sum is one (1).\n",
    "\n",
    "def get_random_asset_weights(no_of_asset_classes):\n",
    "    random_asset_weights = np.random.rand(no_of_asset_classes)\n",
    "    #total =random_asset_weights.sum()\n",
    "    random_asset_weights /= sum(random_asset_weights) # to make the sum of weights = 1\n",
    "    random_asset_weights = np.asmatrix(random_asset_weights)\n",
    "    return random_asset_weights\n",
    "    \n",
    "asset_weights=get_random_asset_weights(no_of_asset_classes)\n",
    "print(asset_weights)"
   ]
  },
  {
   "cell_type": "code",
   "execution_count": 112,
   "metadata": {},
   "outputs": [
    {
     "data": {
      "text/plain": [
       "(0.012639877887669538, 0.4536661525514418, 0.027861628681316013)"
      ]
     },
     "execution_count": 112,
     "metadata": {},
     "output_type": "execute_result"
    }
   ],
   "source": [
    "#Objective 6.\n",
    "#Write a function called \"get_portfolio_statistics\" that takes as input (Input.I) a Numpy vector (matrix)\n",
    "#\"asset_weights\" of weights (percentages) whose sum is one (1) and (Input.II) a Numpy matrix of return values\n",
    "#\"matrix_of_return_values\" whose first axis length is the same as the length of the Numpy vector (matrix)\n",
    "#\"asset_weights\" and returns (Output.I) the mean \"portfolio_mean\", (Output.II) the standard deviation\n",
    "#\"portfolio_standard_deviation\", and (Output.III) the Sharpe ratio \"portfolio_sharpe_ratio\" of the portfolio of\n",
    "#assets with asset weights \"asset_weights\" and asset return values belonging to \"matrix_of_return_values\".\n",
    "\n",
    "def get_portfolio_statistics(asset_weights, matrix_of_return_values):\n",
    "    asset_means = np.asmatrix(np.mean(matrix_of_return_values, axis = 1))\n",
    "    asset_covariances = np.asmatrix(np.cov(matrix_of_return_values))\n",
    "    portfolio_mean = asset_weights * asset_means.T        #asset_means.sum()/no_of_asset_classes\n",
    "    portfolio_mean = portfolio_mean.item() #to convert its value type from matrix from float \n",
    "    portfolio_standard_deviation =np.sqrt(asset_weights * asset_covariances * asset_weights.T)  #abs(sqrt(portfolio_mean-(portfolio_mean**2)))\n",
    "    portfolio_standard_deviation = portfolio_standard_deviation.item()\n",
    "    portfolio_sharpe_ratio = portfolio_mean /portfolio_standard_deviation\n",
    "    return portfolio_mean, portfolio_standard_deviation, portfolio_sharpe_ratio\n",
    "get_portfolio_statistics(asset_weights,matrix_of_return_values)   \n"
   ]
  },
  {
   "cell_type": "code",
   "execution_count": 113,
   "metadata": {},
   "outputs": [],
   "source": [
    "#Objective 7.\n",
    "#Using the functions constructed in Objectives 5 and 6, write a loop that, on each iteration, determines a\n",
    "#Numpy vector (matrix) of weights (percentages) \"random_asset_weights\" of length \"no_of_asset_classes\" whose sum \n",
    "#is one (1) and then appends to each of the lists \"collection_of_random_asset_weights\", \"portfolio_means\",\n",
    "#\"portfolio_standard_deviations\", and \"portfolio_sharpe_ratios\" the Numpy vector (matrix) of weights (percentages)\n",
    "#\"random_asset_weights\"; and the mean \"portfolio_mean\", the standard deviation \"portfolio_standard_deviation\", and\n",
    "#the Sharpe ratio \"portfolio_sharpe_ratio\" of the portfolio of assets with asset weights \"asset_weights\" and asset \n",
    "#return values belonging to \"matrix_of_return_values\", respectively.\n",
    "while len(collection_of_random_asset_weights) < no_of_portfolios:\n",
    "    random_asset_weights = get_random_asset_weights(no_of_asset_classes)\n",
    "    collection_of_random_asset_weights.append(random_asset_weights) \n",
    "    PM,PSD,PSR=get_portfolio_statistics(random_asset_weights,matrix_of_return_values)\n",
    "    portfolio_means.append(PM)\n",
    "    portfolio_standard_deviations.append(PSD)\n",
    "    portfolio_sharpe_ratios.append(PSR)\n",
    "#print(portfolio_mean)   "
   ]
  },
  {
   "cell_type": "code",
   "execution_count": 59,
   "metadata": {},
   "outputs": [
    {
     "data": {
      "image/png": "[encoded data removed]",
      "text/plain": [
       "<Figure size 432x288 with 1 Axes>"
      ]
     },
     "metadata": {
      "needs_background": "light"
     },
     "output_type": "display_data"
    }
   ],
   "source": [
    "#Objective 8.\n",
    "#Make a scatterplot of the corresponding values (x,y) = (portfolio_standard_deviation, portfolio_mean) from the\n",
    "#lists \"portfolio_standard_deviations\" and \"portfolio_means\", respectively.\n",
    "\n",
    "plt.plot(portfolio_standard_deviations, portfolio_means, 'o', markersize = 3, color = 'lightskyblue') \n",
    "plt.show()"
   ]
  },
  {
   "cell_type": "code",
   "execution_count": 60,
   "metadata": {},
   "outputs": [
    {
     "name": "stdout",
     "output_type": "stream",
     "text": [
      "7397\n"
     ]
    }
   ],
   "source": [
    "#Objective 9.\n",
    "#Find the list index of the portfolio of highest Sharpe ratio.\n",
    "\n",
    "index = portfolio_sharpe_ratios.index(max(portfolio_sharpe_ratios))\n",
    "print(index)\n"
   ]
  },
  {
   "cell_type": "code",
   "execution_count": 124,
   "metadata": {},
   "outputs": [
    {
     "name": "stdout",
     "output_type": "stream",
     "text": [
      "The collection of asset weights: \n",
      " [[0.01491691 0.11662    0.01634701 0.45335809 0.39875799]]\n",
      "\n",
      "Asset weights' Index:\n",
      " 7397\n"
     ]
    }
   ],
   "source": [
    "#Objective 10.\n",
    "#Print the asset weights and Sharpe ratio of the portfolio of highest Sharpe ratio, using index above.\n",
    "\n",
    "print(\"The collection of asset weights: \\n\",collection_of_random_asset_weights[index])\n",
    "print(\"\\nAsset weights' Index:\\n\",index)"
   ]
  },
  {
   "cell_type": "code",
   "execution_count": 117,
   "metadata": {},
   "outputs": [
    {
     "data": {
      "image/png": "[encoded data removed]",
      "text/plain": [
       "<Figure size 432x288 with 1 Axes>"
      ]
     },
     "metadata": {
      "needs_background": "light"
     },
     "output_type": "display_data"
    }
   ],
   "source": [
    "#Objective 11.\n",
    "#Add the Capital Market Line to your scatterplot from Objective 8.\n",
    "\n",
    "x = np.linspace(0, max(portfolio_standard_deviations), 10000)\n",
    "y = portfolio_sharpe_ratios[index] * x\n",
    "plt.xlabel(\"Risk\")\n",
    "plt.ylabel(\"Reward\")\n",
    "plt.plot(portfolio_standard_deviations,portfolio_means , 'o', markersize = 3, color = 'lightskyblue')\n",
    "plt.plot(x, y, '-', linewidth = 2, color = 'green')\n",
    "plt.annotate(\"Best Portofoilo\", (portfolio_standard_deviations[index],portfolio_means[index]), textcoords=\"offset points\",xytext=(0,9), c=\"r\")\n",
    "plt.plot(portfolio_standard_deviations[index],portfolio_means[index],color='r', marker='o' )\n",
    "\n",
    "plt.show() #CML\n"
   ]
  },
  {
   "cell_type": "markdown",
   "metadata": {},
   "source": [
    "#Objective 12.\n",
    "#All of the work in this notebook assumes a risk-free rate of zero (0.00).  How could this work be modified to\n",
    "#accommodate a nonzero risk-free rate?  Explain.\n",
    "\n",
    "for the risk-free rate of zero, \n",
    "the Sharpe ratio formula = (measure of reward - riskfree rate) /measure of risk. since the value of riskfree rate is 0, we can remove the riskfree rate from the numerator and reshape the formula to be like this:\n",
    "Sharpe ratio formula= measure of reward /measure of risk\n",
    "but if the value of the risk-free rate is more than zero, we need to subtract its value from the measure of reward.\n",
    "This will reduce the value of the numerator which leads to reducing the amount of reward for each unit of risk.\n",
    "as a result, it's better to have a risk-free rate =0 to get the best possible reward with the least possible risk\n"
   ]
  },
  {
   "cell_type": "markdown",
   "metadata": {},
   "source": [
    "--  --"
   ]
  }
 ],
 "metadata": {
  "interpreter": {
   "hash": "4b9a0c280fc50c2b36decad68c359aa613eb96441a8d33c29b2a9ec218cec8cd"
  },
  "kernelspec": {
   "display_name": "Python 3",
   "language": "python",
   "name": "python3"
  },
  "language_info": {
   "codemirror_mode": {
    "name": "ipython",
    "version": 3
   },
   "file_extension": ".py",
   "mimetype": "text/x-python",
   "name": "python",
   "nbconvert_exporter": "python",
   "pygments_lexer": "ipython3",
   "version": "3.8.5"
  }
 },
 "nbformat": 4,
 "nbformat_minor": 4
}
